{
  "cells": [
    {
      "cell_type": "code",
      "execution_count": 25,
      "metadata": {
        "colab": {
          "base_uri": "https://localhost:8080/"
        },
        "id": "yJT2sMaut8Yk",
        "outputId": "3050e529-5124-4deb-dcdc-ecaaf5fc8676"
      },
      "outputs": [],
      "source": [
        "import pdfplumber\n",
        "import pandas as pd\n",
        "import re"
      ]
    },
    {
      "cell_type": "code",
      "execution_count": 17,
      "metadata": {
        "id": "dYaP2kM6uSxJ"
      },
      "outputs": [],
      "source": [
        "file_path = \"Inv_650765_from_Acme_Dry_Ice_Co.Acme_Ice_Co._4044.pdf\"\n",
        "with pdfplumber.open(file_path) as pdf:\n",
        "    # table = pdf.pages[0]\n",
        "    table = pdf.pages[0].extract_tables()\n",
        "    # table_n = pdf.pages[0].find_tables()\n",
        "    text = pdf.pages[0].extract_text(layout=False)"
      ]
    },
    {
      "cell_type": "code",
      "execution_count": 24,
      "metadata": {
        "id": "TKki10UXuU_Q"
      },
      "outputs": [
        {
          "data": {
            "text/html": [
              "<div>\n",
              "<style scoped>\n",
              "    .dataframe tbody tr th:only-of-type {\n",
              "        vertical-align: middle;\n",
              "    }\n",
              "\n",
              "    .dataframe tbody tr th {\n",
              "        vertical-align: top;\n",
              "    }\n",
              "\n",
              "    .dataframe thead th {\n",
              "        text-align: right;\n",
              "    }\n",
              "</style>\n",
              "<table border=\"1\" class=\"dataframe\">\n",
              "  <thead>\n",
              "    <tr style=\"text-align: right;\">\n",
              "      <th></th>\n",
              "      <th>Qty</th>\n",
              "      <th>Description</th>\n",
              "      <th>Rate</th>\n",
              "      <th>Amount</th>\n",
              "    </tr>\n",
              "    <tr>\n",
              "      <th>LINE</th>\n",
              "      <th></th>\n",
              "      <th></th>\n",
              "      <th></th>\n",
              "      <th></th>\n",
              "    </tr>\n",
              "  </thead>\n",
              "  <tbody>\n",
              "    <tr>\n",
              "      <th>1</th>\n",
              "      <td>12</td>\n",
              "      <td>Boxes of Dry Ice Pellets</td>\n",
              "      <td>50.00</td>\n",
              "      <td>600.00</td>\n",
              "    </tr>\n",
              "    <tr>\n",
              "      <th>2</th>\n",
              "      <td>1</td>\n",
              "      <td>Shipping Charges</td>\n",
              "      <td>25.00</td>\n",
              "      <td>25.00</td>\n",
              "    </tr>\n",
              "  </tbody>\n",
              "</table>\n",
              "</div>"
            ],
            "text/plain": [
              "0    Qty               Description   Rate  Amount\n",
              "LINE                                             \n",
              "1     12  Boxes of Dry Ice Pellets  50.00  600.00\n",
              "2      1          Shipping Charges  25.00   25.00"
            ]
          },
          "execution_count": 24,
          "metadata": {},
          "output_type": "execute_result"
        }
      ],
      "source": [
        "line_table = table[4]\n",
        "data_frame = pd.DataFrame(line_table)\n",
        "data_frame.columns = data_frame.iloc[0]\n",
        "data_frame = data_frame.drop(0)\n",
        "del data_frame[None]\n",
        "data_frame.dropna(inplace=True)\n",
        "data_frame = data_frame.drop(data_frame.index[-1])\n",
        "data_frame = data_frame.rename_axis('LINE')\n",
        "data_frame"
      ]
    },
    {
      "cell_type": "code",
      "execution_count": 27,
      "metadata": {},
      "outputs": [
        {
          "data": {
            "text/html": [
              "<div>\n",
              "<style scoped>\n",
              "    .dataframe tbody tr th:only-of-type {\n",
              "        vertical-align: middle;\n",
              "    }\n",
              "\n",
              "    .dataframe tbody tr th {\n",
              "        vertical-align: top;\n",
              "    }\n",
              "\n",
              "    .dataframe thead th {\n",
              "        text-align: right;\n",
              "    }\n",
              "</style>\n",
              "<table border=\"1\" class=\"dataframe\">\n",
              "  <thead>\n",
              "    <tr style=\"text-align: right;\">\n",
              "      <th></th>\n",
              "      <th>Description</th>\n",
              "      <th>Qty</th>\n",
              "      <th>Rate</th>\n",
              "      <th>Amount</th>\n",
              "    </tr>\n",
              "    <tr>\n",
              "      <th>LINE</th>\n",
              "      <th></th>\n",
              "      <th></th>\n",
              "      <th></th>\n",
              "      <th></th>\n",
              "    </tr>\n",
              "  </thead>\n",
              "  <tbody>\n",
              "    <tr>\n",
              "      <th>1</th>\n",
              "      <td>Boxes of Dry Ice Pellets</td>\n",
              "      <td>12</td>\n",
              "      <td>50.00</td>\n",
              "      <td>600.00</td>\n",
              "    </tr>\n",
              "    <tr>\n",
              "      <th>2</th>\n",
              "      <td>Shipping Charges</td>\n",
              "      <td>1</td>\n",
              "      <td>25.00</td>\n",
              "      <td>25.00</td>\n",
              "    </tr>\n",
              "  </tbody>\n",
              "</table>\n",
              "</div>"
            ],
            "text/plain": [
              "0                  Description Qty   Rate  Amount\n",
              "LINE                                             \n",
              "1     Boxes of Dry Ice Pellets  12  50.00  600.00\n",
              "2             Shipping Charges   1  25.00   25.00"
            ]
          },
          "execution_count": 27,
          "metadata": {},
          "output_type": "execute_result"
        }
      ],
      "source": [
        "required_columns = ['Description', 'Qty', 'Rate', 'Amount']\n",
        "required_columns = list(map(lambda text: re.sub(r'\\s+', ' ', text.strip()), required_columns))\n",
        "selected_df = data_frame[required_columns].copy()\n",
        "selected_df"
      ]
    },
    {
      "cell_type": "code",
      "execution_count": 28,
      "metadata": {},
      "outputs": [
        {
          "data": {
            "text/plain": [
              "'{\"Description\":{\"1\":\"Boxes of Dry Ice Pellets\",\"2\":\"Shipping Charges\"},\"Qty\":{\"1\":\"12\",\"2\":\"1\"},\"Rate\":{\"1\":\"50.00\",\"2\":\"25.00\"},\"Amount\":{\"1\":\"600.00\",\"2\":\"25.00\"}}'"
            ]
          },
          "execution_count": 28,
          "metadata": {},
          "output_type": "execute_result"
        }
      ],
      "source": [
        "json_output = selected_df.to_json(orient = 'columns')\n",
        "json_output"
      ]
    },
    {
      "cell_type": "code",
      "execution_count": 50,
      "metadata": {},
      "outputs": [],
      "source": [
        "other_table = table[0]\n",
        "vendor_name = \"Acme Dry Ice Co./Acme Ice Co.\"\n",
        "final_dic_other = {}\n",
        "final_dic_other['Vendor Name'] = vendor_name\n",
        "final_dic_other['Date'] = other_table[1][0]\n",
        "final_dic_other['Invoice No'] = other_table[1][1]\n",
        "final_dic_other['Ship to'] = table[2][1][0].replace('\\n',' ')"
      ]
    },
    {
      "cell_type": "code",
      "execution_count": 51,
      "metadata": {},
      "outputs": [
        {
          "data": {
            "text/plain": [
              "{'Vendor Name': 'Acme Dry Ice Co./Acme Ice Co.',\n",
              " 'Date': '2/6/2023',\n",
              " 'Invoice No': '650765',\n",
              " 'Ship to': 'FLUENT BIO 150 COOLIDGE AVE WATERTOWN, MA'}"
            ]
          },
          "execution_count": 51,
          "metadata": {},
          "output_type": "execute_result"
        }
      ],
      "source": [
        "final_dic_other"
      ]
    },
    {
      "cell_type": "code",
      "execution_count": 47,
      "metadata": {},
      "outputs": [
        {
          "data": {
            "text/plain": [
              "'FLUENT BIO 150 COOLIDGE AVE WATERTOWN, MA'"
            ]
          },
          "execution_count": 47,
          "metadata": {},
          "output_type": "execute_result"
        }
      ],
      "source": [
        "v = table[2][1][0]\n",
        "v.replace('\\n',' ')"
      ]
    }
  ],
  "metadata": {
    "colab": {
      "provenance": []
    },
    "kernelspec": {
      "display_name": "Python 3",
      "name": "python3"
    },
    "language_info": {
      "codemirror_mode": {
        "name": "ipython",
        "version": 3
      },
      "file_extension": ".py",
      "mimetype": "text/x-python",
      "name": "python",
      "nbconvert_exporter": "python",
      "pygments_lexer": "ipython3",
      "version": "3.8.16"
    }
  },
  "nbformat": 4,
  "nbformat_minor": 0
}
