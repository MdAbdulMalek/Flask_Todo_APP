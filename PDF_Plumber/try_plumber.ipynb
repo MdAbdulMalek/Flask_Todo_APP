{
 "cells": [
  {
   "cell_type": "code",
   "execution_count": null,
   "metadata": {},
   "outputs": [],
   "source": [
    "# LINE, SKU, DESCRIPTION LINE ITEM COMMENTS, UNIT COST/ RETAIL PRICE, QTY, ITEM TOTAL"
   ]
  },
  {
   "cell_type": "code",
   "execution_count": 5,
   "metadata": {},
   "outputs": [],
   "source": [
    "import pdfplumber\n",
    "import pandas as pd\n",
    "import re"
   ]
  },
  {
   "cell_type": "code",
   "execution_count": 229,
   "metadata": {},
   "outputs": [],
   "source": [
    "file_path = \"static/old.pdf\"\n",
    "with pdfplumber.open(file_path) as pdf:\n",
    "    # table = pdf.pages[0]\n",
    "    table = pdf.pages[0].extract_tables()\n",
    "    table_n = pdf.pages[0].find_tables()\n",
    "    # table = pdf.pages[0].extract_table(table_settings={\n",
    "    #                                                     \"vertical_strategy\": \"text\",\n",
    "    #                                                     \"horizontal_strategy\": \"explicit\",\n",
    "    #                                                     \"explicit_horizontal_lines\": [50,50,50,50],\n",
    "    #                                                     \"text_x_tolerance\": 10,\n",
    "    #                                                    })\n",
    "# table"
   ]
  },
  {
   "cell_type": "code",
   "execution_count": 230,
   "metadata": {},
   "outputs": [
    {
     "data": {
      "text/plain": [
       "(301.00136939827576, 54.88702310904057, 565.6243149003191, 150.93164605118113)"
      ]
     },
     "execution_count": 230,
     "metadata": {},
     "output_type": "execute_result"
    }
   ],
   "source": [
    "table_n[0].bbox"
   ]
  },
  {
   "cell_type": "code",
   "execution_count": 214,
   "metadata": {},
   "outputs": [],
   "source": [
    "table.sort(key=len)\n",
    "table = table[-2:]"
   ]
  },
  {
   "cell_type": "markdown",
   "metadata": {},
   "source": [
    "## Line Item Part"
   ]
  },
  {
   "cell_type": "code",
   "execution_count": 219,
   "metadata": {},
   "outputs": [],
   "source": [
    "data_frame = pd.DataFrame(table[1])\n",
    "data_frame.columns = data_frame.iloc[0]\n",
    "data_frame = data_frame.drop(0)"
   ]
  },
  {
   "cell_type": "code",
   "execution_count": 220,
   "metadata": {},
   "outputs": [
    {
     "data": {
      "text/html": [
       "<div>\n",
       "<style scoped>\n",
       "    .dataframe tbody tr th:only-of-type {\n",
       "        vertical-align: middle;\n",
       "    }\n",
       "\n",
       "    .dataframe tbody tr th {\n",
       "        vertical-align: top;\n",
       "    }\n",
       "\n",
       "    .dataframe thead th {\n",
       "        text-align: right;\n",
       "    }\n",
       "</style>\n",
       "<table border=\"1\" class=\"dataframe\">\n",
       "  <thead>\n",
       "    <tr style=\"text-align: right;\">\n",
       "      <th></th>\n",
       "      <th>LINE</th>\n",
       "      <th>SKU</th>\n",
       "      <th>VENDOR\\nPN</th>\n",
       "      <th>UPC/GTIN</th>\n",
       "      <th>DESCRIPTION LINE ITEM\\nCOMMENTS</th>\n",
       "      <th>MARKS AND\\nNUMBERS</th>\n",
       "      <th>UNIT COST/\\nRETAIL\\nPRICE</th>\n",
       "      <th>QTY</th>\n",
       "      <th>UOM</th>\n",
       "      <th>ITEM\\nTOTAL</th>\n",
       "    </tr>\n",
       "  </thead>\n",
       "  <tbody>\n",
       "    <tr>\n",
       "      <th>1</th>\n",
       "      <td>1</td>\n",
       "      <td>1494819</td>\n",
       "      <td></td>\n",
       "      <td></td>\n",
       "      <td>Item Detail: INNO FOODS\\nALMOND FRUIT CRUNCH\\n...</td>\n",
       "      <td></td>\n",
       "      <td>Unit Price: 13.19</td>\n",
       "      <td>6720.0</td>\n",
       "      <td>Each</td>\n",
       "      <td>88,636.80</td>\n",
       "    </tr>\n",
       "    <tr>\n",
       "      <th>2</th>\n",
       "      <td>2</td>\n",
       "      <td>1552820</td>\n",
       "      <td></td>\n",
       "      <td></td>\n",
       "      <td>Item Detail: INNO ORGANIC\\nGRAIN FREE KETO GRA...</td>\n",
       "      <td></td>\n",
       "      <td>Unit Price:\\n244.12</td>\n",
       "      <td>576.0</td>\n",
       "      <td>Case</td>\n",
       "      <td>140,613.12</td>\n",
       "    </tr>\n",
       "    <tr>\n",
       "      <th>3</th>\n",
       "      <td>2</td>\n",
       "      <td># of Line\\nItems</td>\n",
       "      <td>Merchandise Total</td>\n",
       "      <td>None</td>\n",
       "      <td>None</td>\n",
       "      <td>None</td>\n",
       "      <td>None</td>\n",
       "      <td>7296</td>\n",
       "      <td></td>\n",
       "      <td>229,249.92</td>\n",
       "    </tr>\n",
       "  </tbody>\n",
       "</table>\n",
       "</div>"
      ],
      "text/plain": [
       "0 LINE               SKU         VENDOR\\nPN UPC/GTIN  \\\n",
       "1    1           1494819                               \n",
       "2    2           1552820                               \n",
       "3    2  # of Line\\nItems  Merchandise Total     None   \n",
       "\n",
       "0                    DESCRIPTION LINE ITEM\\nCOMMENTS MARKS AND\\nNUMBERS  \\\n",
       "1  Item Detail: INNO FOODS\\nALMOND FRUIT CRUNCH\\n...                      \n",
       "2  Item Detail: INNO ORGANIC\\nGRAIN FREE KETO GRA...                      \n",
       "3                                               None               None   \n",
       "\n",
       "0 UNIT COST/\\nRETAIL\\nPRICE     QTY   UOM ITEM\\nTOTAL  \n",
       "1         Unit Price: 13.19  6720.0  Each   88,636.80  \n",
       "2       Unit Price:\\n244.12   576.0  Case  140,613.12  \n",
       "3                      None    7296        229,249.92  "
      ]
     },
     "execution_count": 220,
     "metadata": {},
     "output_type": "execute_result"
    }
   ],
   "source": [
    "data_frame"
   ]
  },
  {
   "cell_type": "code",
   "execution_count": 221,
   "metadata": {},
   "outputs": [],
   "source": [
    "data_frame.columns = data_frame.columns.str.replace('\\n', ' ')\n",
    "required_columns = ['LINE', 'SKU', 'DESCRIPTION LINE ITEM COMMENTS', 'UNIT COST/ RETAIL PRICE', 'QTY', 'ITEM TOTAL']\n",
    "required_columns = list(map(lambda text: re.sub(r'\\s+', ' ', text.strip()), required_columns))\n",
    "selected_df = data_frame[required_columns].copy()\n",
    "\n",
    "selected_df = selected_df.iloc[:-1]\n",
    "selected_df = selected_df.replace('\\n',' ', regex=True)\n",
    "final_df = selected_df.set_index(\"LINE\")"
   ]
  },
  {
   "cell_type": "code",
   "execution_count": 222,
   "metadata": {},
   "outputs": [
    {
     "data": {
      "text/html": [
       "<div>\n",
       "<style scoped>\n",
       "    .dataframe tbody tr th:only-of-type {\n",
       "        vertical-align: middle;\n",
       "    }\n",
       "\n",
       "    .dataframe tbody tr th {\n",
       "        vertical-align: top;\n",
       "    }\n",
       "\n",
       "    .dataframe thead th {\n",
       "        text-align: right;\n",
       "    }\n",
       "</style>\n",
       "<table border=\"1\" class=\"dataframe\">\n",
       "  <thead>\n",
       "    <tr style=\"text-align: right;\">\n",
       "      <th></th>\n",
       "      <th>SKU</th>\n",
       "      <th>DESCRIPTION LINE ITEM COMMENTS</th>\n",
       "      <th>UNIT COST/ RETAIL PRICE</th>\n",
       "      <th>QTY</th>\n",
       "      <th>ITEM TOTAL</th>\n",
       "    </tr>\n",
       "    <tr>\n",
       "      <th>LINE</th>\n",
       "      <th></th>\n",
       "      <th></th>\n",
       "      <th></th>\n",
       "      <th></th>\n",
       "      <th></th>\n",
       "    </tr>\n",
       "  </thead>\n",
       "  <tbody>\n",
       "    <tr>\n",
       "      <th>1</th>\n",
       "      <td>1494819</td>\n",
       "      <td>Item Detail: INNO FOODS ALMOND FRUIT CRUNCH 90...</td>\n",
       "      <td>Unit Price: 13.19</td>\n",
       "      <td>6720.0</td>\n",
       "      <td>88,636.80</td>\n",
       "    </tr>\n",
       "    <tr>\n",
       "      <th>2</th>\n",
       "      <td>1552820</td>\n",
       "      <td>Item Detail: INNO ORGANIC GRAIN FREE KETO GRAN...</td>\n",
       "      <td>Unit Price: 244.12</td>\n",
       "      <td>576.0</td>\n",
       "      <td>140,613.12</td>\n",
       "    </tr>\n",
       "  </tbody>\n",
       "</table>\n",
       "</div>"
      ],
      "text/plain": [
       "0         SKU                     DESCRIPTION LINE ITEM COMMENTS  \\\n",
       "LINE                                                               \n",
       "1     1494819  Item Detail: INNO FOODS ALMOND FRUIT CRUNCH 90...   \n",
       "2     1552820  Item Detail: INNO ORGANIC GRAIN FREE KETO GRAN...   \n",
       "\n",
       "0    UNIT COST/ RETAIL PRICE     QTY  ITEM TOTAL  \n",
       "LINE                                              \n",
       "1          Unit Price: 13.19  6720.0   88,636.80  \n",
       "2         Unit Price: 244.12   576.0  140,613.12  "
      ]
     },
     "execution_count": 222,
     "metadata": {},
     "output_type": "execute_result"
    }
   ],
   "source": [
    "final_df"
   ]
  },
  {
   "cell_type": "code",
   "execution_count": 223,
   "metadata": {},
   "outputs": [
    {
     "data": {
      "text/plain": [
       "'{\"SKU\":{\"1\":\"1494819\",\"2\":\"1552820\"},\"DESCRIPTION LINE ITEM COMMENTS\":{\"1\":\"Item Detail: INNO FOODS ALMOND FRUIT CRUNCH 900G P280\",\"2\":\"Item Detail: INNO ORGANIC GRAIN FREE KETO GRANOLA 600G P272\"},\"UNIT COST\\\\/ RETAIL PRICE\":{\"1\":\"Unit Price: 13.19\",\"2\":\"Unit Price: 244.12\"},\"QTY\":{\"1\":\"6720.0\",\"2\":\"576.0\"},\"ITEM TOTAL\":{\"1\":\"88,636.80\",\"2\":\"140,613.12\"}}'"
      ]
     },
     "execution_count": 223,
     "metadata": {},
     "output_type": "execute_result"
    }
   ],
   "source": [
    "json_output = final_df.to_json(orient = 'columns')\n",
    "json_output"
   ]
  },
  {
   "cell_type": "code",
   "execution_count": 99,
   "metadata": {},
   "outputs": [],
   "source": [
    "selected_df.to_csv(\"output.csv\")"
   ]
  },
  {
   "cell_type": "markdown",
   "metadata": {},
   "source": [
    "## Other Parts "
   ]
  },
  {
   "cell_type": "code",
   "execution_count": 266,
   "metadata": {},
   "outputs": [],
   "source": [
    "from itertools import chain\n",
    "import re"
   ]
  },
  {
   "cell_type": "code",
   "execution_count": 264,
   "metadata": {},
   "outputs": [
    {
     "data": {
      "text/plain": [
       "['PO Date:\\n08/16/2022',\n",
       " 'Requested Delivery Date:\\n08/25/2022',\n",
       " 'Requested Ship Date:\\n08/24/2022',\n",
       " 'Cancel Date:\\n08/29/2022',\n",
       " 'Vendor #:\\n0007764600',\n",
       " 'Department #:\\n13COSTCO DEPARTMENT']"
      ]
     },
     "execution_count": 264,
     "metadata": {},
     "output_type": "execute_result"
    }
   ],
   "source": [
    "item = []\n",
    "result = list(chain(table[0][0], table[0][1], table[0][3]))\n",
    "result"
   ]
  },
  {
   "cell_type": "code",
   "execution_count": 268,
   "metadata": {},
   "outputs": [],
   "source": [
    "pattern = r\"\\n(.+)\"\n",
    "match = re.search(pattern, result[0])"
   ]
  },
  {
   "cell_type": "code",
   "execution_count": 272,
   "metadata": {},
   "outputs": [
    {
     "data": {
      "text/plain": [
       "'08/16/2022'"
      ]
     },
     "execution_count": 272,
     "metadata": {},
     "output_type": "execute_result"
    }
   ],
   "source": [
    "match.group(1)"
   ]
  },
  {
   "cell_type": "code",
   "execution_count": 263,
   "metadata": {},
   "outputs": [
    {
     "data": {
      "text/plain": [
       "['PO Date:\\n08/16/2022', 'Requested Delivery Date:\\n08/25/2022']"
      ]
     },
     "execution_count": 263,
     "metadata": {},
     "output_type": "execute_result"
    }
   ],
   "source": [
    "df1 = {'Short_descp':Short_descp,'TYPE':Type,'SIZE':size,'LENGTH':length, 'MATERIAL':material}"
   ]
  },
  {
   "cell_type": "code",
   "execution_count": 249,
   "metadata": {},
   "outputs": [],
   "source": [
    "list_other = [\"PO Date\", \"Requested Ship Date\", \"Requested Delivery Date\", \"Cancel Date\", \"Vendor #\"]"
   ]
  },
  {
   "cell_type": "code",
   "execution_count": null,
   "metadata": {},
   "outputs": [],
   "source": [
    "for items in list_other:\n",
    "    if items in result:\n",
    "        print(\"g\")"
   ]
  },
  {
   "cell_type": "code",
   "execution_count": 248,
   "metadata": {},
   "outputs": [
    {
     "name": "stdout",
     "output_type": "stream",
     "text": [
      "0                PO Date:\\n08/16/2022\n",
      "1    Requested Ship Date:\\n08/24/2022\n",
      "2                    Delivery Window:\n",
      "3               Vendor #:\\n0007764600\n",
      "Name: 0, dtype: object\n",
      "0    Requested Delivery Date:\\n08/25/2022\n",
      "1                Cancel Date:\\n08/29/2022\n",
      "2                        Shipping Window:\n",
      "3      Department #:\\n13COSTCO DEPARTMENT\n",
      "Name: 1, dtype: object\n"
     ]
    }
   ],
   "source": [
    "dic_other = {}\n",
    "for i in data_frame.items():\n",
    "    print(i[1])"
   ]
  },
  {
   "cell_type": "code",
   "execution_count": null,
   "metadata": {},
   "outputs": [],
   "source": []
  }
 ],
 "metadata": {
  "kernelspec": {
   "display_name": "f_lask",
   "language": "python",
   "name": "python3"
  },
  "language_info": {
   "codemirror_mode": {
    "name": "ipython",
    "version": 3
   },
   "file_extension": ".py",
   "mimetype": "text/x-python",
   "name": "python",
   "nbconvert_exporter": "python",
   "pygments_lexer": "ipython3",
   "version": "3.8.16"
  },
  "orig_nbformat": 4
 },
 "nbformat": 4,
 "nbformat_minor": 2
}
