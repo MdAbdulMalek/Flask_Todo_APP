{
 "cells": [
  {
   "cell_type": "code",
   "execution_count": null,
   "metadata": {},
   "outputs": [],
   "source": [
    "# LINE, SKU, DESCRIPTION LINE ITEM COMMENTS, UNIT COST/ RETAIL PRICE, QTY, ITEM TOTAL"
   ]
  },
  {
   "cell_type": "code",
   "execution_count": 60,
   "metadata": {},
   "outputs": [],
   "source": [
    "import pdfplumber\n",
    "import pandas as pd\n",
    "import numpy as np\n",
    "import re"
   ]
  },
  {
   "cell_type": "code",
   "execution_count": 78,
   "metadata": {},
   "outputs": [],
   "source": [
    "file_path = \"static/de.pdf\"\n",
    "with pdfplumber.open(file_path) as pdf:\n",
    "    # table = pdf.pages[0]\n",
    "    table = pdf.pages[0].extract_tables()\n",
    "    # table_n = pdf.pages[0].find_tables()\n",
    "    text = pdf.pages[0].extract_text(layout=False)\n",
    "    # table = pdf.pages[0].extract_table(table_settings={\n",
    "    #                                                     \"vertical_strategy\": \"text\",\n",
    "    #                                                     \"horizontal_strategy\": \"explicit\",\n",
    "    #                                                     \"explicit_horizontal_lines\": [50,50,50,50],\n",
    "    #                                                     \"text_x_tolerance\": 10,\n",
    "    #                                                    })\n",
    "# tables"
   ]
  },
  {
   "cell_type": "code",
   "execution_count": null,
   "metadata": {},
   "outputs": [],
   "source": [
    "print(text, sep=\"\\t\")"
   ]
  },
  {
   "cell_type": "code",
   "execution_count": 79,
   "metadata": {},
   "outputs": [],
   "source": [
    "table.sort(key=len)\n",
    "table = table[-2:]"
   ]
  },
  {
   "cell_type": "code",
   "execution_count": 80,
   "metadata": {},
   "outputs": [],
   "source": [
    "if table[0][0][0] == \"LINE\":\n",
    "    line_table = table[0]\n",
    "    other_table = table[1]\n",
    "else:\n",
    "    line_table = table[1]\n",
    "    other_table = table[0]"
   ]
  },
  {
   "cell_type": "markdown",
   "metadata": {},
   "source": [
    "## Line Item Part"
   ]
  },
  {
   "cell_type": "code",
   "execution_count": 81,
   "metadata": {},
   "outputs": [],
   "source": [
    "data_frame = pd.DataFrame(line_table)\n",
    "data_frame.columns = data_frame.iloc[0]\n",
    "data_frame = data_frame.drop(0)"
   ]
  },
  {
   "cell_type": "code",
   "execution_count": 82,
   "metadata": {},
   "outputs": [
    {
     "data": {
      "text/html": [
       "<div>\n",
       "<style scoped>\n",
       "    .dataframe tbody tr th:only-of-type {\n",
       "        vertical-align: middle;\n",
       "    }\n",
       "\n",
       "    .dataframe tbody tr th {\n",
       "        vertical-align: top;\n",
       "    }\n",
       "\n",
       "    .dataframe thead th {\n",
       "        text-align: right;\n",
       "    }\n",
       "</style>\n",
       "<table border=\"1\" class=\"dataframe\">\n",
       "  <thead>\n",
       "    <tr style=\"text-align: right;\">\n",
       "      <th></th>\n",
       "      <th>LINE</th>\n",
       "      <th>SKU</th>\n",
       "      <th>VENDOR\\nPN</th>\n",
       "      <th>UPC/GTIN</th>\n",
       "      <th>DESCRIPTION LINE ITEM\\nCOMMENTS</th>\n",
       "      <th>MARKS AND\\nNUMBERS</th>\n",
       "      <th>UNIT COST/\\nRETAIL\\nPRICE</th>\n",
       "      <th>QTY</th>\n",
       "      <th>UOM</th>\n",
       "      <th>ITEM\\nTOTAL</th>\n",
       "    </tr>\n",
       "  </thead>\n",
       "  <tbody>\n",
       "    <tr>\n",
       "      <th>1</th>\n",
       "      <td>1</td>\n",
       "      <td>3040446</td>\n",
       "      <td></td>\n",
       "      <td></td>\n",
       "      <td>Item Detail: INNO ORGANIC\\nCOCONUT CLUSTERS 50...</td>\n",
       "      <td></td>\n",
       "      <td>Unit Price: 9.51</td>\n",
       "      <td>16320.0</td>\n",
       "      <td>Each</td>\n",
       "      <td>155,203.20</td>\n",
       "    </tr>\n",
       "    <tr>\n",
       "      <th>2</th>\n",
       "      <td>1</td>\n",
       "      <td># of Line\\nItems</td>\n",
       "      <td>Merchandise Total</td>\n",
       "      <td>None</td>\n",
       "      <td>None</td>\n",
       "      <td>None</td>\n",
       "      <td>None</td>\n",
       "      <td>16320</td>\n",
       "      <td></td>\n",
       "      <td>155,203.20</td>\n",
       "    </tr>\n",
       "  </tbody>\n",
       "</table>\n",
       "</div>"
      ],
      "text/plain": [
       "0 LINE               SKU         VENDOR\\nPN UPC/GTIN  \\\n",
       "1    1           3040446                               \n",
       "2    1  # of Line\\nItems  Merchandise Total     None   \n",
       "\n",
       "0                    DESCRIPTION LINE ITEM\\nCOMMENTS MARKS AND\\nNUMBERS  \\\n",
       "1  Item Detail: INNO ORGANIC\\nCOCONUT CLUSTERS 50...                      \n",
       "2                                               None               None   \n",
       "\n",
       "0 UNIT COST/\\nRETAIL\\nPRICE      QTY   UOM ITEM\\nTOTAL  \n",
       "1          Unit Price: 9.51  16320.0  Each  155,203.20  \n",
       "2                      None    16320        155,203.20  "
      ]
     },
     "execution_count": 82,
     "metadata": {},
     "output_type": "execute_result"
    }
   ],
   "source": [
    "data_frame"
   ]
  },
  {
   "cell_type": "code",
   "execution_count": 83,
   "metadata": {},
   "outputs": [],
   "source": [
    "data_frame.columns = data_frame.columns.str.replace('\\n', ' ')\n",
    "required_columns = ['LINE', 'SKU', 'DESCRIPTION LINE ITEM COMMENTS', 'UNIT COST/ RETAIL PRICE', 'QTY', 'ITEM TOTAL']\n",
    "required_columns = list(map(lambda text: re.sub(r'\\s+', ' ', text.strip()), required_columns))\n",
    "\n",
    "column_name = ['LINE']\n",
    "required_columns = ['LINE', 'SKU', 'DESCRIPTION LINE ITEM COMMENTS', 'UNIT COST/ RETAIL PRICE', 'QTY', 'ITEM TOTAL']\n",
    "required_columns.extend(column_name)\n",
    "required_columns = np.unique(required_columns)\n",
    "selected_df = data_frame[required_columns].copy()\n",
    "\n",
    "selected_df = selected_df.iloc[:-1]\n",
    "selected_df = selected_df.replace('\\n',' ', regex=True)\n",
    "final_df = selected_df.set_index(\"LINE\")"
   ]
  },
  {
   "cell_type": "code",
   "execution_count": 84,
   "metadata": {},
   "outputs": [
    {
     "data": {
      "text/html": [
       "<div>\n",
       "<style scoped>\n",
       "    .dataframe tbody tr th:only-of-type {\n",
       "        vertical-align: middle;\n",
       "    }\n",
       "\n",
       "    .dataframe tbody tr th {\n",
       "        vertical-align: top;\n",
       "    }\n",
       "\n",
       "    .dataframe thead th {\n",
       "        text-align: right;\n",
       "    }\n",
       "</style>\n",
       "<table border=\"1\" class=\"dataframe\">\n",
       "  <thead>\n",
       "    <tr style=\"text-align: right;\">\n",
       "      <th></th>\n",
       "      <th>DESCRIPTION LINE ITEM COMMENTS</th>\n",
       "      <th>ITEM TOTAL</th>\n",
       "      <th>QTY</th>\n",
       "      <th>SKU</th>\n",
       "      <th>UNIT COST/ RETAIL PRICE</th>\n",
       "    </tr>\n",
       "    <tr>\n",
       "      <th>LINE</th>\n",
       "      <th></th>\n",
       "      <th></th>\n",
       "      <th></th>\n",
       "      <th></th>\n",
       "      <th></th>\n",
       "    </tr>\n",
       "  </thead>\n",
       "  <tbody>\n",
       "    <tr>\n",
       "      <th>1</th>\n",
       "      <td>Item Detail: INNO ORGANIC COCONUT CLUSTERS 500...</td>\n",
       "      <td>155,203.20</td>\n",
       "      <td>16320.0</td>\n",
       "      <td>3040446</td>\n",
       "      <td>Unit Price: 9.51</td>\n",
       "    </tr>\n",
       "  </tbody>\n",
       "</table>\n",
       "</div>"
      ],
      "text/plain": [
       "0                        DESCRIPTION LINE ITEM COMMENTS  ITEM TOTAL      QTY  \\\n",
       "LINE                                                                           \n",
       "1     Item Detail: INNO ORGANIC COCONUT CLUSTERS 500...  155,203.20  16320.0   \n",
       "\n",
       "0         SKU UNIT COST/ RETAIL PRICE  \n",
       "LINE                                   \n",
       "1     3040446        Unit Price: 9.51  "
      ]
     },
     "execution_count": 84,
     "metadata": {},
     "output_type": "execute_result"
    }
   ],
   "source": [
    "final_df"
   ]
  },
  {
   "cell_type": "code",
   "execution_count": 85,
   "metadata": {},
   "outputs": [
    {
     "data": {
      "text/plain": [
       "'{\"DESCRIPTION LINE ITEM COMMENTS\":{\"1\":\"Item Detail: INNO ORGANIC COCONUT CLUSTERS 500G P272\"},\"ITEM TOTAL\":{\"1\":\"155,203.20\"},\"QTY\":{\"1\":\"16320.0\"},\"SKU\":{\"1\":\"3040446\"},\"UNIT COST\\\\/ RETAIL PRICE\":{\"1\":\"Unit Price: 9.51\"}}'"
      ]
     },
     "execution_count": 85,
     "metadata": {},
     "output_type": "execute_result"
    }
   ],
   "source": [
    "json_output = final_df.to_json(orient = 'columns')\n",
    "json_output"
   ]
  },
  {
   "cell_type": "code",
   "execution_count": 99,
   "metadata": {},
   "outputs": [],
   "source": [
    "selected_df.to_csv(\"output.csv\")"
   ]
  },
  {
   "cell_type": "markdown",
   "metadata": {},
   "source": [
    "## Other Parts "
   ]
  },
  {
   "cell_type": "code",
   "execution_count": 86,
   "metadata": {},
   "outputs": [],
   "source": [
    "from itertools import chain\n",
    "import re"
   ]
  },
  {
   "cell_type": "code",
   "execution_count": 87,
   "metadata": {},
   "outputs": [],
   "source": [
    "vendor_name = \"Costco Canada\"\n",
    "result = list(chain(other_table[0], other_table[1], other_table[3]))\n",
    "order_number_pattern = r'Order #:\\s+(\\d+)'\n",
    "match = re.search(order_number_pattern, text)\n",
    "order_num = match.group(1)"
   ]
  },
  {
   "cell_type": "code",
   "execution_count": 37,
   "metadata": {},
   "outputs": [
    {
     "data": {
      "text/plain": [
       "['PO Date:\\n08/16/2022',\n",
       " 'Requested Delivery Date:\\n08/25/2022',\n",
       " 'Requested Ship Date:\\n08/24/2022',\n",
       " 'Cancel Date:\\n08/29/2022',\n",
       " 'Vendor #:\\n0007764600',\n",
       " 'Department #:\\n13COSTCO DEPARTMENT']"
      ]
     },
     "execution_count": 37,
     "metadata": {},
     "output_type": "execute_result"
    }
   ],
   "source": [
    "result"
   ]
  },
  {
   "cell_type": "code",
   "execution_count": 88,
   "metadata": {},
   "outputs": [],
   "source": [
    "# result = result.replace('\\n',' ', regex=True)\n",
    "result = list(map(lambda text: text.replace('\\n', ''), result))"
   ]
  },
  {
   "cell_type": "code",
   "execution_count": 39,
   "metadata": {},
   "outputs": [
    {
     "data": {
      "text/plain": [
       "['PO Date:08/16/2022',\n",
       " 'Requested Delivery Date:08/25/2022',\n",
       " 'Requested Ship Date:08/24/2022',\n",
       " 'Cancel Date:08/29/2022',\n",
       " 'Vendor #:0007764600',\n",
       " 'Department #:13COSTCO DEPARTMENT']"
      ]
     },
     "execution_count": 39,
     "metadata": {},
     "output_type": "execute_result"
    }
   ],
   "source": [
    "result"
   ]
  },
  {
   "cell_type": "code",
   "execution_count": 89,
   "metadata": {},
   "outputs": [],
   "source": [
    "dic_all_item = {}\n",
    "pattern_a = r\":(.+)\"\n",
    "pattern_b = r\"(.+):\"\n",
    "for itter in result:\n",
    "    match_bef = re.search(pattern_b, itter)\n",
    "    match_aft = re.search(pattern_a, itter)\n",
    "    dic_all_item[match_bef.group(1)] = match_aft.group(1)"
   ]
  },
  {
   "cell_type": "code",
   "execution_count": 90,
   "metadata": {},
   "outputs": [
    {
     "data": {
      "text/plain": [
       "{'PO Date': '07/05/2023',\n",
       " 'Requested Delivery Date': '07/20/2023',\n",
       " 'Requested Ship Date': '07/14/2023',\n",
       " 'Cancel Date': '07/14/2023',\n",
       " 'Vendor #': '0007764600',\n",
       " 'Department #': '12COSTCO DEPARTMENT'}"
      ]
     },
     "execution_count": 90,
     "metadata": {},
     "output_type": "execute_result"
    }
   ],
   "source": [
    "dic_all_item"
   ]
  },
  {
   "cell_type": "code",
   "execution_count": 91,
   "metadata": {},
   "outputs": [],
   "source": [
    "list_other = [\"PO Date\", \"Requested Ship Date\", \"Requested Delivery Date\", \"Cancel Date\", \"Vendor #\"]"
   ]
  },
  {
   "cell_type": "code",
   "execution_count": 92,
   "metadata": {},
   "outputs": [],
   "source": [
    "final_dic_other = {}\n",
    "final_dic_other['Vendor Name'] = vendor_name\n",
    "final_dic_other['Order Number'] = order_num\n",
    "for zzz in dic_all_item:\n",
    "    if zzz in list_other:\n",
    "        final_dic_other[zzz] = dic_all_item[zzz]"
   ]
  },
  {
   "cell_type": "code",
   "execution_count": 93,
   "metadata": {},
   "outputs": [
    {
     "data": {
      "text/plain": [
       "{'Vendor Name': 'Costco Canada',\n",
       " 'Order Number': '005710705035',\n",
       " 'PO Date': '07/05/2023',\n",
       " 'Requested Delivery Date': '07/20/2023',\n",
       " 'Requested Ship Date': '07/14/2023',\n",
       " 'Cancel Date': '07/14/2023',\n",
       " 'Vendor #': '0007764600'}"
      ]
     },
     "execution_count": 93,
     "metadata": {},
     "output_type": "execute_result"
    }
   ],
   "source": [
    "final_dic_other"
   ]
  },
  {
   "cell_type": "code",
   "execution_count": 59,
   "metadata": {},
   "outputs": [
    {
     "name": "stdout",
     "output_type": "stream",
     "text": [
      "['DESCRIPTION LINE ITEM COMMENTS' 'ITEM TOTAL' 'LINE' 'QTY' 'SKU'\n",
      " 'UNIT COST/ RETAIL PRICE']\n"
     ]
    }
   ],
   "source": [
    "final_dic_other\n",
    "print(required_columns)"
   ]
  }
 ],
 "metadata": {
  "kernelspec": {
   "display_name": "f_lask",
   "language": "python",
   "name": "python3"
  },
  "language_info": {
   "codemirror_mode": {
    "name": "ipython",
    "version": 3
   },
   "file_extension": ".py",
   "mimetype": "text/x-python",
   "name": "python",
   "nbconvert_exporter": "python",
   "pygments_lexer": "ipython3",
   "version": "3.8.16"
  },
  "orig_nbformat": 4
 },
 "nbformat": 4,
 "nbformat_minor": 2
}
