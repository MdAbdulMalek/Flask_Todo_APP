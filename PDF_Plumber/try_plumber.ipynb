{
 "cells": [
  {
   "cell_type": "code",
   "execution_count": 1,
   "metadata": {},
   "outputs": [],
   "source": [
    "import pdfplumber\n",
    "import pandas as pd\n",
    "import re"
   ]
  },
  {
   "cell_type": "code",
   "execution_count": 7,
   "metadata": {},
   "outputs": [],
   "source": [
    "file_path = \"static/files/demo2.pdf\"\n",
    "with pdfplumber.open(file_path) as pdf:\n",
    "    table = pdf.pages[0].extract_table()"
   ]
  },
  {
   "cell_type": "code",
   "execution_count": null,
   "metadata": {},
   "outputs": [],
   "source": [
    "table"
   ]
  },
  {
   "cell_type": "code",
   "execution_count": 5,
   "metadata": {},
   "outputs": [],
   "source": [
    "data_frame = pd.DataFrame(table)\n",
    "data_frame.columns = data_frame.iloc[0]\n",
    "data_frame = data_frame.drop(0)"
   ]
  },
  {
   "cell_type": "code",
   "execution_count": 120,
   "metadata": {},
   "outputs": [],
   "source": [
    "data_frame.columns = data_frame.columns.str.replace('\\n', ' ')\n",
    "required_columns = ['LINE', 'SKU', 'DESCRIPTION LINE ITEM COMMENTS', 'UNIT COST/ RETAIL PRICE', 'QTY', 'ITEM TOTAL']\n",
    "required_columns = list(map(lambda text: re.sub(r'\\s+', ' ', text.strip()), required_columns))\n",
    "selected_df = data_frame[required_columns].copy()\n",
    "\n",
    "selected_df = selected_df.iloc[:-1]\n",
    "selected_df = selected_df.replace('\\n',' ', regex=True)\n",
    "final_df = selected_df.set_index(\"LINE\")"
   ]
  },
  {
   "cell_type": "code",
   "execution_count": 121,
   "metadata": {},
   "outputs": [
    {
     "data": {
      "text/html": [
       "<div>\n",
       "<style scoped>\n",
       "    .dataframe tbody tr th:only-of-type {\n",
       "        vertical-align: middle;\n",
       "    }\n",
       "\n",
       "    .dataframe tbody tr th {\n",
       "        vertical-align: top;\n",
       "    }\n",
       "\n",
       "    .dataframe thead th {\n",
       "        text-align: right;\n",
       "    }\n",
       "</style>\n",
       "<table border=\"1\" class=\"dataframe\">\n",
       "  <thead>\n",
       "    <tr style=\"text-align: right;\">\n",
       "      <th></th>\n",
       "      <th>SKU</th>\n",
       "      <th>DESCRIPTION LINE ITEM COMMENTS</th>\n",
       "      <th>UNIT COST/ RETAIL PRICE</th>\n",
       "      <th>QTY</th>\n",
       "      <th>ITEM TOTAL</th>\n",
       "    </tr>\n",
       "    <tr>\n",
       "      <th>LINE</th>\n",
       "      <th></th>\n",
       "      <th></th>\n",
       "      <th></th>\n",
       "      <th></th>\n",
       "      <th></th>\n",
       "    </tr>\n",
       "  </thead>\n",
       "  <tbody>\n",
       "    <tr>\n",
       "      <th>1</th>\n",
       "      <td>1494819</td>\n",
       "      <td>Item Detail: INNO FOODS ALMOND FRUIT CRUNCH 90...</td>\n",
       "      <td>Unit Price: 13.19</td>\n",
       "      <td>6720.0</td>\n",
       "      <td>88,636.80</td>\n",
       "    </tr>\n",
       "    <tr>\n",
       "      <th>2</th>\n",
       "      <td>1552820</td>\n",
       "      <td>Item Detail: INNO ORGANIC GRAIN FREE KETO GRAN...</td>\n",
       "      <td>Unit Price: 244.12</td>\n",
       "      <td>576.0</td>\n",
       "      <td>140,613.12</td>\n",
       "    </tr>\n",
       "  </tbody>\n",
       "</table>\n",
       "</div>"
      ],
      "text/plain": [
       "0         SKU                     DESCRIPTION LINE ITEM COMMENTS  \\\n",
       "LINE                                                               \n",
       "1     1494819  Item Detail: INNO FOODS ALMOND FRUIT CRUNCH 90...   \n",
       "2     1552820  Item Detail: INNO ORGANIC GRAIN FREE KETO GRAN...   \n",
       "\n",
       "0    UNIT COST/ RETAIL PRICE     QTY  ITEM TOTAL  \n",
       "LINE                                              \n",
       "1          Unit Price: 13.19  6720.0   88,636.80  \n",
       "2         Unit Price: 244.12   576.0  140,613.12  "
      ]
     },
     "execution_count": 121,
     "metadata": {},
     "output_type": "execute_result"
    }
   ],
   "source": [
    "final_df"
   ]
  },
  {
   "cell_type": "code",
   "execution_count": 122,
   "metadata": {},
   "outputs": [
    {
     "data": {
      "text/plain": [
       "'{\"SKU\":{\"1\":\"1494819\",\"2\":\"1552820\"},\"DESCRIPTION LINE ITEM COMMENTS\":{\"1\":\"Item Detail: INNO FOODS ALMOND FRUIT CRUNCH 900G P280\",\"2\":\"Item Detail: INNO ORGANIC GRAIN FREE KETO GRANOLA 600G P272\"},\"UNIT COST\\\\/ RETAIL PRICE\":{\"1\":\"Unit Price: 13.19\",\"2\":\"Unit Price: 244.12\"},\"QTY\":{\"1\":\"6720.0\",\"2\":\"576.0\"},\"ITEM TOTAL\":{\"1\":\"88,636.80\",\"2\":\"140,613.12\"}}'"
      ]
     },
     "execution_count": 122,
     "metadata": {},
     "output_type": "execute_result"
    }
   ],
   "source": [
    "json_output = final_df.to_json(orient = 'columns')\n",
    "json_output"
   ]
  },
  {
   "cell_type": "code",
   "execution_count": 99,
   "metadata": {},
   "outputs": [],
   "source": [
    "selected_df.to_csv(\"output.csv\")"
   ]
  },
  {
   "cell_type": "code",
   "execution_count": 128,
   "metadata": {},
   "outputs": [
    {
     "data": {
      "text/plain": [
       "['SKU', 'ITEM TOTAL', 'DESCRIPTION LINE ITEM COMMENTS']"
      ]
     },
     "execution_count": 128,
     "metadata": {},
     "output_type": "execute_result"
    }
   ],
   "source": [
    "ls = \"SKU, ITEM TOTAL, DESCRIPTION LINE ITEM COMMENTS\"\n",
    "\n",
    "ans = ls.split(\",\")\n",
    "ans = list(map(lambda text: re.sub(r'\\s+', ' ', text.strip()), ans))\n",
    "ans"
   ]
  },
  {
   "cell_type": "code",
   "execution_count": null,
   "metadata": {},
   "outputs": [],
   "source": []
  }
 ],
 "metadata": {
  "kernelspec": {
   "display_name": "f_lask",
   "language": "python",
   "name": "python3"
  },
  "language_info": {
   "codemirror_mode": {
    "name": "ipython",
    "version": 3
   },
   "file_extension": ".py",
   "mimetype": "text/x-python",
   "name": "python",
   "nbconvert_exporter": "python",
   "pygments_lexer": "ipython3",
   "version": "3.8.16"
  },
  "orig_nbformat": 4
 },
 "nbformat": 4,
 "nbformat_minor": 2
}
